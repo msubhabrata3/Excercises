{
 "cells": [
  {
   "cell_type": "markdown",
   "metadata": {},
   "source": [
    "# Examining Racial Discrimination in the US Job Market\n",
    "\n",
    "### Background\n",
    "Racial discrimination continues to be pervasive in cultures throughout the world. Researchers examined the level of racial discrimination in the United States labor market by randomly assigning identical résumés to black-sounding or white-sounding names and observing the impact on requests for interviews from employers.\n",
    "\n",
    "### Data\n",
    "In the dataset provided, each row represents a resume. The 'race' column has two values, 'b' and 'w', indicating black-sounding and white-sounding. The column 'call' has two values, 1 and 0, indicating whether the resume received a call from employers or not.\n",
    "\n",
    "Note that the 'b' and 'w' values in race are assigned randomly to the resumes when presented to the employer."
   ]
  },
  {
   "cell_type": "markdown",
   "metadata": {},
   "source": [
    "<div class=\"span5 alert alert-info\">\n",
    "### Exercises\n",
    "You will perform a statistical analysis to establish whether race has a significant impact on the rate of callbacks for resumes.\n",
    "\n",
    "Answer the following questions **in this notebook below and submit to your Github account**. \n",
    "\n",
    "   1. What test is appropriate for this problem? Does CLT apply?\n",
    "   2. What are the null and alternate hypotheses?\n",
    "   3. Compute margin of error, confidence interval, and p-value.\n",
    "   4. Write a story describing the statistical significance in the context or the original problem.\n",
    "   5. Does your analysis mean that race/name is the most important factor in callback success? Why or why not? If not, how would you amend your analysis?\n",
    "\n",
    "You can include written notes in notebook cells using Markdown: \n",
    "   - In the control panel at the top, choose Cell > Cell Type > Markdown\n",
    "   - Markdown syntax: http://nestacms.com/docs/creating-content/markdown-cheat-sheet\n",
    "\n",
    "\n",
    "#### Resources\n",
    "+ Experiment information and data source: http://www.povertyactionlab.org/evaluation/discrimination-job-market-united-states\n",
    "+ Scipy statistical methods: http://docs.scipy.org/doc/scipy/reference/stats.html \n",
    "+ Markdown syntax: http://nestacms.com/docs/creating-content/markdown-cheat-sheet\n",
    "</div>\n",
    "****"
   ]
  },
  {
   "cell_type": "code",
   "execution_count": 85,
   "metadata": {},
   "outputs": [],
   "source": [
    "import pandas as pd\n",
    "from scipy import stats\n",
    "import matplotlib\n",
    "import matplotlib.pyplot as plt\n",
    "import statsmodels.api as sm\n",
    "from scipy.stats import norm"
   ]
  },
  {
   "cell_type": "code",
   "execution_count": 86,
   "metadata": {
    "collapsed": true
   },
   "outputs": [],
   "source": [
    "data = pd.io.stata.read_stata('data/us_job_market_discrimination.dta')"
   ]
  },
  {
   "cell_type": "code",
   "execution_count": 87,
   "metadata": {},
   "outputs": [
    {
     "name": "stdout",
     "output_type": "stream",
     "text": [
      "Total number of black-sounding resumes:  2435\n",
      "Total number of black-sounding resumes: 2435\n",
      "The z-statistic is  4.10841215243  and the p-value  is  3.98388683759e-05\n"
     ]
    }
   ],
   "source": [
    "# number of callbacks for white-sounding names\n",
    "noofresumeofwhitegotacall = sum(data[data.race=='w'].call)\n",
    "\n",
    "# Total number of black-sounding resumes\n",
    "totalnoofwhiteresume = data[data.race == 'w'].shape[0]\n",
    "print(\"Total number of black-sounding resumes: \", totalnoofwhiteresume)\n",
    "\n",
    "# number of callbacks for black-sounding names\n",
    "noofresumeofblackgotacall = sum(data[data.race=='b'].call)\n",
    "\n",
    "# Total number of black-sounding resumes\n",
    "totalnoofblackresume = data[data.race == 'b'].shape[0]\n",
    "print(\"Total number of black-sounding resumes:\", totalnoofblackresume)\n",
    "\n",
    "zstat, pval = sm.stats.proportions_ztest([noofresumeofwhitegotacall, noofresumeofblackgotacall], \n",
    "                                              [totalnoofwhiteresume, totalnoofblackresume])\n",
    "\n",
    "print(\"The z-statistic is \", zstat, \" and the p-value  is \", pval)"
   ]
  },
  {
   "cell_type": "code",
   "execution_count": 88,
   "metadata": {},
   "outputs": [
    {
     "name": "stdout",
     "output_type": "stream",
     "text": [
      "0.999980080566\n",
      "1.95996398454\n"
     ]
    }
   ],
   "source": [
    "print(norm.cdf(zstat)) # Tells us how significant our z-score is\n",
    "\n",
    "print(norm.ppf(1-(0.05/2))) # Tells us what our critical value at 95% confidence is"
   ]
  },
  {
   "cell_type": "markdown",
   "metadata": {},
   "source": [
    "We are given indenpendant SRSs, having a random sample, n = 2435 is large enough for the CLT to appy so the distribution of sample means is approximately normal.\n",
    "\n",
    "With an assumption that the samples are random and independent by design and clearly the total population of registered voters is large. so a z-test is called with H<sub>0</sub>: p<sub>1</sub> - p<sub>2</sub> = 0 and H<sub>a</sub>: p<sub>1</sub> - p<sub>2</sub> <> 0 where p<sub>1</sub> is the proportion of white-sounding resume got a call and p<sub>2</sub> is the proportion of black-sounding resume got a call"
   ]
  },
  {
   "cell_type": "markdown",
   "metadata": {},
   "source": [
    "With this small P-value, 0.00004 < 0.05, there is sufficient evidence to reject H<sub>0</sub>, that is, there is sufficient evidence that proportion of white-sounding resume called for interview are not same as the proportion of black-sounding resume called for interview"
   ]
  },
  {
   "cell_type": "markdown",
   "metadata": {},
   "source": [
    "## Conclusion"
   ]
  },
  {
   "cell_type": "markdown",
   "metadata": {},
   "source": [
    "From the sample distribution, with 95% confidence, there is sufficient evidence that proportion of white-sounding resume called for interview are not same as the proportion of black-sounding resume called for interview. Hence there is sufficient evidence that race/name is the most important factor in callback success"
   ]
  },
  {
   "cell_type": "code",
   "execution_count": null,
   "metadata": {
    "collapsed": true
   },
   "outputs": [],
   "source": []
  }
 ],
 "metadata": {
  "kernelspec": {
   "display_name": "Python 3",
   "language": "python",
   "name": "python3"
  },
  "language_info": {
   "codemirror_mode": {
    "name": "ipython",
    "version": 3
   },
   "file_extension": ".py",
   "mimetype": "text/x-python",
   "name": "python",
   "nbconvert_exporter": "python",
   "pygments_lexer": "ipython3",
   "version": "3.6.1"
  }
 },
 "nbformat": 4,
 "nbformat_minor": 1
}
