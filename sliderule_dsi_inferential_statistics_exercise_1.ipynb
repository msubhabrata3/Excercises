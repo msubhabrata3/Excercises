{
 "cells": [
  {
   "cell_type": "markdown",
   "metadata": {},
   "source": [
    "# What is the True Normal Human Body Temperature? \n",
    "\n",
    "#### Background\n",
    "\n",
    "The mean normal body temperature was held to be 37$^{\\circ}$C or 98.6$^{\\circ}$F for more than 120 years since it was first conceptualized and reported by Carl Wunderlich in a famous 1868 book. But, is this value statistically correct?"
   ]
  },
  {
   "cell_type": "markdown",
   "metadata": {},
   "source": [
    "<div class=\"span5 alert alert-info\">\n",
    "<h3>Exercises</h3>\n",
    "\n",
    "<p>In this exercise, you will analyze a dataset of human body temperatures and employ the concepts of hypothesis testing, confidence intervals, and statistical significance.</p>\n",
    "\n",
    "<p>Answer the following questions <b>in this notebook below and submit to your Github account</b>.</p> \n",
    "\n",
    "<ol>\n",
    "<li>  Is the distribution of body temperatures normal? \n",
    "    <ul>\n",
    "    <li> Although this is not a requirement for CLT to hold (read CLT carefully), it gives us some peace of mind that the population may also be normally distributed if we assume that this sample is representative of the population.\n",
    "    </ul>\n",
    "<li>  Is the sample size large? Are the observations independent?\n",
    "    <ul>\n",
    "    <li> Remember that this is a condition for the CLT, and hence the statistical tests we are using, to apply.\n",
    "    </ul>\n",
    "<li>  Is the true population mean really 98.6 degrees F?\n",
    "    <ul>\n",
    "    <li> Would you use a one-sample or two-sample test? Why?\n",
    "    <li> In this situation, is it appropriate to use the $t$ or $z$ statistic? \n",
    "    <li> Now try using the other test. How is the result be different? Why?\n",
    "    </ul>\n",
    "<li>  At what temperature should we consider someone's temperature to be \"abnormal\"?\n",
    "    <ul>\n",
    "    <li> Start by computing the margin of error and confidence interval.\n",
    "    </ul>\n",
    "<li>  Is there a significant difference between males and females in normal temperature?\n",
    "    <ul>\n",
    "    <li> What test did you use and why?\n",
    "    <li> Write a story with your conclusion in the context of the original problem.\n",
    "    </ul>\n",
    "</ol>\n",
    "\n",
    "You can include written notes in notebook cells using Markdown: \n",
    "   - In the control panel at the top, choose Cell > Cell Type > Markdown\n",
    "   - Markdown syntax: http://nestacms.com/docs/creating-content/markdown-cheat-sheet\n",
    "\n",
    "#### Resources\n",
    "\n",
    "+ Information and data sources: http://www.amstat.org/publications/jse/datasets/normtemp.txt, http://www.amstat.org/publications/jse/jse_data_archive.htm\n",
    "+ Markdown syntax: http://nestacms.com/docs/creating-content/markdown-cheat-sheet\n",
    "\n",
    "****\n",
    "</div>"
   ]
  },
  {
   "cell_type": "code",
   "execution_count": 79,
   "metadata": {},
   "outputs": [
    {
     "name": "stdout",
     "output_type": "stream",
     "text": [
      "Populating the interactive namespace from numpy and matplotlib\n"
     ]
    }
   ],
   "source": [
    "%pylab inline\n",
    "\n",
    "import pandas as pd\n",
    "from scipy import stats\n",
    "import matplotlib\n",
    "import matplotlib.pyplot as plt\n",
    "import statsmodels as sm\n",
    "from statsmodels.stats.weightstats import ztest\n",
    "\n",
    "df = pd.read_csv('data/human_body_temperature.csv')"
   ]
  },
  {
   "cell_type": "code",
   "execution_count": 80,
   "metadata": {},
   "outputs": [
    {
     "data": {
      "text/plain": [
       "<matplotlib.text.Text at 0x121c63be0>"
      ]
     },
     "execution_count": 80,
     "metadata": {},
     "output_type": "execute_result"
    },
    {
     "data": {
      "image/png": "[encoded data removed]",
      "text/plain": [
       "<matplotlib.figure.Figure at 0x121780358>"
      ]
     },
     "metadata": {},
     "output_type": "display_data"
    }
   ],
   "source": [
    "dfall = df['temperature']\n",
    "dfmale = df[df['gender'] == 'M']['temperature']\n",
    "dffemale = df[df['gender'] == 'F']['temperature']\n",
    "\n",
    "fig, ax = plt.subplots(1, 3, figsize=(20, 5))\n",
    "\n",
    "ax[0].hist(dfall, bins=10, histtype='bar')\n",
    "ax[0].set_title(\"Histogram of Body Temperature of Male & Female\")\n",
    "\n",
    "ax[1].hist(dfmale, bins=10, histtype='bar')\n",
    "ax[1].set_title(\"Histogram of Body Temperature of Male\")\n",
    "\n",
    "ax[2].hist(dffemale, bins=10, histtype='bar')\n",
    "ax[2].set_title(\"Histogram of Body Temperature of Female\")"
   ]
  },
  {
   "cell_type": "markdown",
   "metadata": {},
   "source": [
    "## 1. Is the distribution of body temperatures normal?"
   ]
  },
  {
   "cell_type": "code",
   "execution_count": 81,
   "metadata": {},
   "outputs": [
    {
     "name": "stdout",
     "output_type": "stream",
     "text": [
      "0.258747986349\n"
     ]
    }
   ],
   "source": [
    "z,pval = stats.normaltest(df.temperature)\n",
    "\n",
    "if(pval < 0.055):\n",
    "    print(\"Not normal distribution\")\n",
    "\n",
    "print(pval)"
   ]
  },
  {
   "cell_type": "markdown",
   "metadata": {},
   "source": [
    "#### As the pval > 0.055, it is very likely that the distribution of body temperatures is a normal distribution"
   ]
  },
  {
   "cell_type": "markdown",
   "metadata": {},
   "source": [
    "## 2. Is the sample size large? Are the observations independent?"
   ]
  },
  {
   "cell_type": "code",
   "execution_count": 82,
   "metadata": {},
   "outputs": [
    {
     "name": "stdout",
     "output_type": "stream",
     "text": [
      "130\n"
     ]
    }
   ],
   "source": [
    "print(df.shape[0])"
   ]
  },
  {
   "cell_type": "markdown",
   "metadata": {},
   "source": [
    "#### Since the sample size is > 30, it can be considered as large sample"
   ]
  },
  {
   "cell_type": "code",
   "execution_count": 83,
   "metadata": {},
   "outputs": [
    {
     "data": {
      "image/png": "[encoded data removed]",
      "text/plain": [
       "<matplotlib.figure.Figure at 0x12179a9b0>"
      ]
     },
     "metadata": {},
     "output_type": "display_data"
    }
   ],
   "source": [
    "df.plot(kind='scatter',x='temperature',y='heart_rate')\n",
    "plt.show()"
   ]
  },
  {
   "cell_type": "code",
   "execution_count": 84,
   "metadata": {},
   "outputs": [
    {
     "name": "stdout",
     "output_type": "stream",
     "text": [
      "             temperature  heart_rate\n",
      "temperature     1.000000    0.253656\n",
      "heart_rate      0.253656    1.000000\n"
     ]
    }
   ],
   "source": [
    "print(df.corr())"
   ]
  },
  {
   "cell_type": "markdown",
   "metadata": {},
   "source": [
    "#### Since the correlation coefficient between temperature and heart rate is very less we can assume the data is independant."
   ]
  },
  {
   "cell_type": "markdown",
   "metadata": {},
   "source": [
    "## 3. Is the true population mean really 98.6 degrees F?"
   ]
  },
  {
   "cell_type": "code",
   "execution_count": 85,
   "metadata": {},
   "outputs": [
    {
     "name": "stdout",
     "output_type": "stream",
     "text": [
      "The mean temperature of the sample is:  98.25\n",
      "The standard deviation temperature of the sample is:  0.73\n",
      "The t-statistic is  -5.45482329236  and the p-value is  2.41063204156e-07\n"
     ]
    }
   ],
   "source": [
    "print(\"The mean temperature of the sample is: \", round(df.temperature.mean(),2))\n",
    "print(\"The standard deviation temperature of the sample is: \", round(df.temperature.std(),2))\n",
    "\n",
    "one_sample = stats.ttest_1samp(df.temperature, 98.6)\n",
    "print(\"The t-statistic is \", one_sample[0], \" and the p-value is \", one_sample[1])"
   ]
  },
  {
   "cell_type": "markdown",
   "metadata": {},
   "source": [
    "We are having a random sample, n = 130 is large enough for the CLT to appy so the distribution of sample means is approximately normal. The population SD is unknown, so a t-test is called with H<sub>0</sub> = 98.6 and H<sub>a</sub> <> 98.6\n",
    "\n",
    "The test result shows the test t-statistic as -5.45 and P-value as 0.00000024. With this small P-value, 0.00000024 < 0.05, there is sufficient evidence to reject H<sub>0</sub>, that is, there is sufficient evidence that to reject the claim of Carl Wunderlich that the mean normal body temperature is 98.6"
   ]
  },
  {
   "cell_type": "markdown",
   "metadata": {},
   "source": [
    "#### 3.1 Would you use a one-sample or two-sample test? Why?"
   ]
  },
  {
   "cell_type": "markdown",
   "metadata": {},
   "source": [
    "A one sample t-test is used to compare the mean of a sample to a known value whereas a two sample t test is used to compare the means of two different samples.\n",
    "In this case we are testing whether the population's mean temperature for the sample is not significantly different from 98.6. Hence we are using one-sample t test. "
   ]
  },
  {
   "cell_type": "markdown",
   "metadata": {},
   "source": [
    "#### 3.2 In this situation, is it appropriate to use the  t or z statistic?"
   ]
  },
  {
   "cell_type": "markdown",
   "metadata": {},
   "source": [
    "T-test is best applied, at least in theory, if you have a limited sample size (n < 30) as long as the variables are approximately normally distributed and the variation of scores in the two groups is not reliably different. It is also great if you do not know the populations’ standard deviation. \n",
    "Since we do not know the populations’ standard deviation and the sample distribution is not an ideal normal distribution, t statistic is appropriate for the hypothesis testing"
   ]
  },
  {
   "cell_type": "markdown",
   "metadata": {},
   "source": [
    "#### 3.3 Now try using the other test. How is the result be different? Why?"
   ]
  },
  {
   "cell_type": "code",
   "execution_count": 86,
   "metadata": {},
   "outputs": [
    {
     "name": "stdout",
     "output_type": "stream",
     "text": [
      "The z-statistic is  -5.45482329236  and the p-value  is  4.9021570141e-08\n"
     ]
    }
   ],
   "source": [
    "zstat, pval = ztest(df['temperature'], x2=None, value=98.6, alternative='two-sided', \n",
    "                    usevar='pooled', ddof=1.0)\n",
    "\n",
    "print(\"The z-statistic is \", zstat, \" and the p-value  is \", pval)"
   ]
  },
  {
   "cell_type": "markdown",
   "metadata": {
    "collapsed": true
   },
   "source": [
    "Since sample size, n = 130 is large enough for the CLT we also use z-test with with H<sub>0</sub>: u = 98.6 and H<sub>a</sub>: u <> 98.6\n",
    "\n",
    "The test result shows the test z-statistic as -5.45 and P-value as 0.00000005. With this small P-value, 0.00000005 < 0.05, there is sufficient evidence to reject H<sub>0</sub>, that is, there is sufficient evidence that to reject the claim of Carl Wunderlich that the mean normal body temperature is 98.6. \n",
    "\n",
    "In case of z-test the P-value is even lower than the P-value found in t-test and we can conclude that z-test is more appropriate test for this hypothesis testing. "
   ]
  },
  {
   "cell_type": "markdown",
   "metadata": {
    "collapsed": true
   },
   "source": [
    "## 4. At what temperature should we consider someone's temperature to be \"abnormal\"?"
   ]
  },
  {
   "cell_type": "code",
   "execution_count": 87,
   "metadata": {},
   "outputs": [
    {
     "data": {
      "text/plain": [
       "(98.122002905608042, 98.376458632853513)"
      ]
     },
     "execution_count": 87,
     "metadata": {},
     "output_type": "execute_result"
    }
   ],
   "source": [
    "sigma = df.temperature.std()/math.sqrt(130)  # Sample stdev/sample size\n",
    "\n",
    "stats.t.interval(0.95,                        # Confidence level\n",
    "                 df = 129,                     # Degrees of freedom\n",
    "                 loc = df.temperature.mean(), # Sample mean\n",
    "                 scale= sigma)                # Standard dev estimate"
   ]
  },
  {
   "cell_type": "code",
   "execution_count": 88,
   "metadata": {},
   "outputs": [
    {
     "data": {
      "text/plain": [
       "(98.032682658320113, 98.465778880141457)"
      ]
     },
     "execution_count": 88,
     "metadata": {},
     "output_type": "execute_result"
    }
   ],
   "source": [
    "stats.t.interval(0.999,                        # Confidence level\n",
    "                 df = 129,                     # Degrees of freedom\n",
    "                 loc = df.temperature.mean(), # Sample mean\n",
    "                 scale= sigma)                # Standard dev estimate"
   ]
  },
  {
   "cell_type": "markdown",
   "metadata": {},
   "source": [
    "The 95% confidence limits extend from 98.12 to 98.38. If we were to construct a 95% confidence interval for the sample it would not capture population mean of 98.6. Even the 99.9% confidence interval of 98.03 to 98.46 excludes the value 98.6. \n",
    "Hence with 99.9% confidence we can conclude that the population mean not really 98.6 degrees F.\n",
    "\n",
    "We have seen that with 99.9% confidence interval the mean body temperature is expected to fall between 98.03 and 98.46. Hence if someone's temerature is above 98.46 we should consider that as abnormal."
   ]
  },
  {
   "cell_type": "markdown",
   "metadata": {
    "collapsed": true
   },
   "source": [
    "## 5. Is there a significant difference between males and females in normal temperature?"
   ]
  },
  {
   "cell_type": "code",
   "execution_count": 89,
   "metadata": {},
   "outputs": [
    {
     "name": "stdout",
     "output_type": "stream",
     "text": [
      "The sample size of all male is:  65\n",
      "The mean temperature of all male is:  98.1\n",
      "The standard deviation temperature of all male is:  0.7\n",
      "The sample size of all female is:  65\n",
      "The mean temperature of all female is:  98.39\n",
      "The standard deviation temperature of all female is:  0.74\n",
      "The t-statistic is  -2.28543453817  and the p-value is  0.0239382641829\n"
     ]
    }
   ],
   "source": [
    "print(\"The sample size of all male is: \", dfmale.shape[0])\n",
    "print(\"The mean temperature of all male is: \", round(dfmale.mean(),2))\n",
    "print(\"The standard deviation temperature of all male is: \", round(dfmale.std(),2))\n",
    "\n",
    "print(\"The sample size of all female is: \", dffemale.shape[0])\n",
    "print(\"The mean temperature of all female is: \", round(dffemale.mean(),2))\n",
    "print(\"The standard deviation temperature of all female is: \", round(dffemale.std(),2))\n",
    "\n",
    "two_sample_t = stats.ttest_ind(a= dfmale, b= dffemale, equal_var=False) \n",
    "print(\"The t-statistic is \", two_sample_t[0], \" and the p-value is \", two_sample_t[1])"
   ]
  },
  {
   "cell_type": "markdown",
   "metadata": {},
   "source": [
    "We are given indenpendant SRSs, having a random sample, n = 65 is large enough for the CLT to appy so the distribution of sample means is approximately normal. The population SD is unknown, so a t-test is called with H<sub>0</sub>: u<sub>1</sub> - u<sub>2</sub> = 0 and H<sub>a</sub>: u<sub>1</sub> - u<sub>2</sub> <> 0 where \n",
    "u<sub>1</sub> is the mean temperature of male and u<sub>2</sub> is the mean temperature of female\n",
    "\n",
    "With this small P-value, 0.02394 < 0.05, there is sufficient evidence to reject H<sub>0</sub>, that is, there is sufficient evidence that mean temperature of male and mean temperature of female are not same."
   ]
  },
  {
   "cell_type": "markdown",
   "metadata": {},
   "source": [
    "Since we are comparing the mean body temperature of male and female we can use the two  sample z-test as it is used to compare the means of two different samples."
   ]
  },
  {
   "cell_type": "code",
   "execution_count": 90,
   "metadata": {},
   "outputs": [
    {
     "name": "stdout",
     "output_type": "stream",
     "text": [
      "The z-statistic is  -2.28543453817  and the p-value is  0.0222873607607\n"
     ]
    }
   ],
   "source": [
    "two_sample_z = sm.stats.weightstats.ztest(dfmale, dffemale, value=0, alternative='two-sided', \n",
    "                                        usevar='pooled', ddof=1.0)\n",
    "\n",
    "print(\"The z-statistic is \", two_sample_z[0], \" and the p-value is \", two_sample_z[1])"
   ]
  },
  {
   "cell_type": "markdown",
   "metadata": {},
   "source": [
    "With this small P-value, 0.02229 < 0.05, there is sufficient evidence to reject H<sub>0</sub>, that is, there is sufficient evidence that mean temperature of male and mean temperature of female are not same."
   ]
  },
  {
   "cell_type": "markdown",
   "metadata": {},
   "source": [
    "## Conclusion"
   ]
  },
  {
   "cell_type": "markdown",
   "metadata": {},
   "source": [
    "The mean normal body temperature was held to be 37&deg;C or 98.6&deg;F for more than 120 years since it was first conceptualized and reported by Carl Wunderlich in a famous 1868 book.\n",
    "But the study of human body temperatures we can clonclude that there is sufficient evidence that to reject the claim of Carl Wunderlich that the mean normal body temperature is 98.6.\n",
    "Also we can claim with sufficient evidence that mean temperature of male and mean temperature of female are not same."
   ]
  }
 ],
 "metadata": {
  "kernelspec": {
   "display_name": "Python 3",
   "language": "python",
   "name": "python3"
  },
  "language_info": {
   "codemirror_mode": {
    "name": "ipython",
    "version": 3
   },
   "file_extension": ".py",
   "mimetype": "text/x-python",
   "name": "python",
   "nbconvert_exporter": "python",
   "pygments_lexer": "ipython3",
   "version": "3.6.1"
  },
  "widgets": {
   "application/vnd.jupyter.widget-state+json": {
    "state": {},
    "version_major": 1,
    "version_minor": 0
   }
  }
 },
 "nbformat": 4,
 "nbformat_minor": 1
}
